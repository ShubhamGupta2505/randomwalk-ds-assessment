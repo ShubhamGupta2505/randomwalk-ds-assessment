{
 "cells": [
  {
   "cell_type": "code",
   "execution_count": 3,
   "id": "a6735ebc",
   "metadata": {},
   "outputs": [],
   "source": [
    "import pandas as pd\n",
    "import numpy as np\n",
    "import matplotlib.pyplot as plt"
   ]
  },
  {
   "cell_type": "code",
   "execution_count": 5,
   "id": "56cea0d4",
   "metadata": {},
   "outputs": [
    {
     "data": {
      "text/html": [
       "<div>\n",
       "<style scoped>\n",
       "    .dataframe tbody tr th:only-of-type {\n",
       "        vertical-align: middle;\n",
       "    }\n",
       "\n",
       "    .dataframe tbody tr th {\n",
       "        vertical-align: top;\n",
       "    }\n",
       "\n",
       "    .dataframe thead th {\n",
       "        text-align: right;\n",
       "    }\n",
       "</style>\n",
       "<table border=\"1\" class=\"dataframe\">\n",
       "  <thead>\n",
       "    <tr style=\"text-align: right;\">\n",
       "      <th></th>\n",
       "      <th>book_id</th>\n",
       "      <th>goodreads_book_id</th>\n",
       "      <th>best_book_id</th>\n",
       "      <th>work_id</th>\n",
       "      <th>books_count</th>\n",
       "      <th>isbn</th>\n",
       "      <th>isbn13</th>\n",
       "      <th>authors</th>\n",
       "      <th>original_publication_year</th>\n",
       "      <th>original_title</th>\n",
       "      <th>...</th>\n",
       "      <th>work_ratings_count</th>\n",
       "      <th>work_text_reviews_count</th>\n",
       "      <th>ratings_1</th>\n",
       "      <th>ratings_2</th>\n",
       "      <th>ratings_3</th>\n",
       "      <th>ratings_4</th>\n",
       "      <th>ratings_5</th>\n",
       "      <th>image_url</th>\n",
       "      <th>small_image_url</th>\n",
       "      <th>NonEnglish</th>\n",
       "    </tr>\n",
       "  </thead>\n",
       "  <tbody>\n",
       "    <tr>\n",
       "      <th>0</th>\n",
       "      <td>15</td>\n",
       "      <td>48855</td>\n",
       "      <td>48855</td>\n",
       "      <td>3532896</td>\n",
       "      <td>710</td>\n",
       "      <td>553296981</td>\n",
       "      <td>9.780553e+12</td>\n",
       "      <td>Anne Frank, Eleanor Roosevelt, B.M. Mooyaart-D...</td>\n",
       "      <td>1947.0</td>\n",
       "      <td>Het Achterhuis: Dagboekbrieven 14 juni 1942 - ...</td>\n",
       "      <td>...</td>\n",
       "      <td>2024493</td>\n",
       "      <td>20825</td>\n",
       "      <td>45225</td>\n",
       "      <td>91270</td>\n",
       "      <td>355756</td>\n",
       "      <td>656870</td>\n",
       "      <td>875372</td>\n",
       "      <td>https://images.gr-assets.com/books/1358276407m...</td>\n",
       "      <td>https://images.gr-assets.com/books/1358276407s...</td>\n",
       "      <td>0</td>\n",
       "    </tr>\n",
       "    <tr>\n",
       "      <th>1</th>\n",
       "      <td>40</td>\n",
       "      <td>19501</td>\n",
       "      <td>19501</td>\n",
       "      <td>3352398</td>\n",
       "      <td>185</td>\n",
       "      <td>143038419</td>\n",
       "      <td>9.780143e+12</td>\n",
       "      <td>Elizabeth Gilbert</td>\n",
       "      <td>2006.0</td>\n",
       "      <td>Eat, pray, love: one woman's search for everyt...</td>\n",
       "      <td>...</td>\n",
       "      <td>1206597</td>\n",
       "      <td>49714</td>\n",
       "      <td>100373</td>\n",
       "      <td>149549</td>\n",
       "      <td>310212</td>\n",
       "      <td>332191</td>\n",
       "      <td>314272</td>\n",
       "      <td>https://images.gr-assets.com/books/1503066414m...</td>\n",
       "      <td>https://images.gr-assets.com/books/1503066414s...</td>\n",
       "      <td>0</td>\n",
       "    </tr>\n",
       "    <tr>\n",
       "      <th>2</th>\n",
       "      <td>81</td>\n",
       "      <td>7445</td>\n",
       "      <td>7445</td>\n",
       "      <td>2944133</td>\n",
       "      <td>92</td>\n",
       "      <td>074324754X</td>\n",
       "      <td>9.780743e+12</td>\n",
       "      <td>Jeannette Walls</td>\n",
       "      <td>2005.0</td>\n",
       "      <td>The Glass Castle</td>\n",
       "      <td>...</td>\n",
       "      <td>637866</td>\n",
       "      <td>40777</td>\n",
       "      <td>7901</td>\n",
       "      <td>18922</td>\n",
       "      <td>85191</td>\n",
       "      <td>227750</td>\n",
       "      <td>298102</td>\n",
       "      <td>https://images.gr-assets.com/books/1400930557m...</td>\n",
       "      <td>https://images.gr-assets.com/books/1400930557s...</td>\n",
       "      <td>0</td>\n",
       "    </tr>\n",
       "    <tr>\n",
       "      <th>3</th>\n",
       "      <td>82</td>\n",
       "      <td>1845</td>\n",
       "      <td>1845</td>\n",
       "      <td>3284484</td>\n",
       "      <td>108</td>\n",
       "      <td>385486804</td>\n",
       "      <td>9.780385e+12</td>\n",
       "      <td>Jon Krakauer</td>\n",
       "      <td>1996.0</td>\n",
       "      <td>Into the Wild</td>\n",
       "      <td>...</td>\n",
       "      <td>665377</td>\n",
       "      <td>17299</td>\n",
       "      <td>19229</td>\n",
       "      <td>35567</td>\n",
       "      <td>135199</td>\n",
       "      <td>248287</td>\n",
       "      <td>227095</td>\n",
       "      <td>https://images.gr-assets.com/books/1403173986m...</td>\n",
       "      <td>https://images.gr-assets.com/books/1403173986s...</td>\n",
       "      <td>0</td>\n",
       "    </tr>\n",
       "    <tr>\n",
       "      <th>4</th>\n",
       "      <td>87</td>\n",
       "      <td>1617</td>\n",
       "      <td>1617</td>\n",
       "      <td>265616</td>\n",
       "      <td>109</td>\n",
       "      <td>374500010</td>\n",
       "      <td>9.780375e+12</td>\n",
       "      <td>Elie Wiesel, Marion Wiesel</td>\n",
       "      <td>1958.0</td>\n",
       "      <td>Un di Velt Hot Geshvign</td>\n",
       "      <td>...</td>\n",
       "      <td>707879</td>\n",
       "      <td>22001</td>\n",
       "      <td>7761</td>\n",
       "      <td>18539</td>\n",
       "      <td>90575</td>\n",
       "      <td>230227</td>\n",
       "      <td>360777</td>\n",
       "      <td>https://images.gr-assets.com/books/1473495285m...</td>\n",
       "      <td>https://images.gr-assets.com/books/1473495285s...</td>\n",
       "      <td>0</td>\n",
       "    </tr>\n",
       "  </tbody>\n",
       "</table>\n",
       "<p>5 rows × 24 columns</p>\n",
       "</div>"
      ],
      "text/plain": [
       "   book_id  goodreads_book_id  best_book_id  work_id  books_count        isbn  \\\n",
       "0       15              48855         48855  3532896          710   553296981   \n",
       "1       40              19501         19501  3352398          185   143038419   \n",
       "2       81               7445          7445  2944133           92  074324754X   \n",
       "3       82               1845          1845  3284484          108   385486804   \n",
       "4       87               1617          1617   265616          109   374500010   \n",
       "\n",
       "         isbn13                                            authors  \\\n",
       "0  9.780553e+12  Anne Frank, Eleanor Roosevelt, B.M. Mooyaart-D...   \n",
       "1  9.780143e+12                                  Elizabeth Gilbert   \n",
       "2  9.780743e+12                                    Jeannette Walls   \n",
       "3  9.780385e+12                                       Jon Krakauer   \n",
       "4  9.780375e+12                         Elie Wiesel, Marion Wiesel   \n",
       "\n",
       "   original_publication_year  \\\n",
       "0                     1947.0   \n",
       "1                     2006.0   \n",
       "2                     2005.0   \n",
       "3                     1996.0   \n",
       "4                     1958.0   \n",
       "\n",
       "                                      original_title  ... work_ratings_count  \\\n",
       "0  Het Achterhuis: Dagboekbrieven 14 juni 1942 - ...  ...            2024493   \n",
       "1  Eat, pray, love: one woman's search for everyt...  ...            1206597   \n",
       "2                                   The Glass Castle  ...             637866   \n",
       "3                                      Into the Wild  ...             665377   \n",
       "4                            Un di Velt Hot Geshvign  ...             707879   \n",
       "\n",
       "  work_text_reviews_count  ratings_1  ratings_2  ratings_3  ratings_4  \\\n",
       "0                   20825      45225      91270     355756     656870   \n",
       "1                   49714     100373     149549     310212     332191   \n",
       "2                   40777       7901      18922      85191     227750   \n",
       "3                   17299      19229      35567     135199     248287   \n",
       "4                   22001       7761      18539      90575     230227   \n",
       "\n",
       "   ratings_5                                          image_url  \\\n",
       "0     875372  https://images.gr-assets.com/books/1358276407m...   \n",
       "1     314272  https://images.gr-assets.com/books/1503066414m...   \n",
       "2     298102  https://images.gr-assets.com/books/1400930557m...   \n",
       "3     227095  https://images.gr-assets.com/books/1403173986m...   \n",
       "4     360777  https://images.gr-assets.com/books/1473495285m...   \n",
       "\n",
       "                                     small_image_url  NonEnglish  \n",
       "0  https://images.gr-assets.com/books/1358276407s...           0  \n",
       "1  https://images.gr-assets.com/books/1503066414s...           0  \n",
       "2  https://images.gr-assets.com/books/1400930557s...           0  \n",
       "3  https://images.gr-assets.com/books/1403173986s...           0  \n",
       "4  https://images.gr-assets.com/books/1473495285s...           0  \n",
       "\n",
       "[5 rows x 24 columns]"
      ]
     },
     "execution_count": 5,
     "metadata": {},
     "output_type": "execute_result"
    }
   ],
   "source": [
    "books_df = pd.read_csv('books.csv')\n",
    "books_df.head()"
   ]
  },
  {
   "cell_type": "code",
   "execution_count": 16,
   "id": "5d328448",
   "metadata": {},
   "outputs": [
    {
     "data": {
      "text/plain": [
       "book_id                       0\n",
       "goodreads_book_id             0\n",
       "best_book_id                  0\n",
       "work_id                       0\n",
       "books_count                   0\n",
       "isbn                         11\n",
       "isbn13                       10\n",
       "authors                       0\n",
       "original_publication_year     0\n",
       "original_title               36\n",
       "title                         0\n",
       "language_code                43\n",
       "average_rating                0\n",
       "ratings_count                 0\n",
       "work_ratings_count            0\n",
       "work_text_reviews_count       0\n",
       "ratings_1                     0\n",
       "ratings_2                     0\n",
       "ratings_3                     0\n",
       "ratings_4                     0\n",
       "ratings_5                     0\n",
       "image_url                     0\n",
       "small_image_url               0\n",
       "NonEnglish                    0\n",
       "dtype: int64"
      ]
     },
     "execution_count": 16,
     "metadata": {},
     "output_type": "execute_result"
    }
   ],
   "source": [
    "df.isnull().sum()"
   ]
  },
  {
   "cell_type": "markdown",
   "id": "b1bd969d",
   "metadata": {},
   "source": [
    "# Question 1 :  How many rows and columns are there in books.csv dataset?"
   ]
  },
  {
   "cell_type": "code",
   "execution_count": 6,
   "id": "616b7925",
   "metadata": {},
   "outputs": [
    {
     "name": "stdout",
     "output_type": "stream",
     "text": [
      "Q1: The dataset has 399 rows and 24 columns.\n"
     ]
    }
   ],
   "source": [
    "num_rows, num_columns = books_df.shape\n",
    "print(f\"Q1: The dataset has {num_rows} rows and {num_columns} columns.\")"
   ]
  },
  {
   "cell_type": "markdown",
   "id": "bb436e6a",
   "metadata": {},
   "source": [
    "# Question 2: How many books do not have an original title?"
   ]
  },
  {
   "cell_type": "code",
   "execution_count": 7,
   "id": "083c2160",
   "metadata": {},
   "outputs": [
    {
     "name": "stdout",
     "output_type": "stream",
     "text": [
      "Q2: There are 36 books without an original title.\n"
     ]
    }
   ],
   "source": [
    "books_without_original_title = books_df['original_title'].isnull().sum()\n",
    "print(f\"Q2: There are {books_without_original_title} books without an original title.\")"
   ]
  },
  {
   "cell_type": "markdown",
   "id": "15a1f70d",
   "metadata": {},
   "source": [
    "# Question 3: How many unique books are present in the dataset ? Evaluate based on the 'book_id' after removing null values in the original_title column."
   ]
  },
  {
   "cell_type": "code",
   "execution_count": 8,
   "id": "7679632e",
   "metadata": {},
   "outputs": [
    {
     "name": "stdout",
     "output_type": "stream",
     "text": [
      "Q3: There are 399 unique books in the dataset after removing null values in the original_title column.\n"
     ]
    }
   ],
   "source": [
    "unique_books = books_df['book_id'].nunique()\n",
    "print(f\"Q3: There are {unique_books} unique books in the dataset after removing null values in the original_title column.\")"
   ]
  },
  {
   "cell_type": "markdown",
   "id": "20f9e38a",
   "metadata": {},
   "source": [
    "# Question 4: What is the average rating of all the books in the dataset based on ‘average_rating’?"
   ]
  },
  {
   "cell_type": "code",
   "execution_count": 9,
   "id": "a6ff8b4b",
   "metadata": {},
   "outputs": [
    {
     "name": "stdout",
     "output_type": "stream",
     "text": [
      "Q4: The average rating of all the books is 3.98.\n"
     ]
    }
   ],
   "source": [
    "average_rating = books_df['average_rating'].mean()\n",
    "print(f\"Q4: The average rating of all the books is {average_rating:.2f}.\")"
   ]
  },
  {
   "cell_type": "markdown",
   "id": "b6673635",
   "metadata": {},
   "source": [
    "# Question 5: Find the number of books published in the year ‘2000’ based on the ‘original_publication_year’."
   ]
  },
  {
   "cell_type": "code",
   "execution_count": 10,
   "id": "28bd976d",
   "metadata": {},
   "outputs": [
    {
     "name": "stdout",
     "output_type": "stream",
     "text": [
      "Q5: The number of books published in the year 2000 is 8.\n"
     ]
    }
   ],
   "source": [
    "books_published_in_2000 = books_df[books_df['original_publication_year'] == 2000].shape[0]\n",
    "print(f\"Q5: The number of books published in the year 2000 is {books_published_in_2000}.\")"
   ]
  },
  {
   "cell_type": "markdown",
   "id": "2cb3961e",
   "metadata": {},
   "source": [
    "# Question 6: Which book (title) has the maximum number of ratings based on ‘work_ratings_count’."
   ]
  },
  {
   "cell_type": "code",
   "execution_count": 11,
   "id": "6b2c2133",
   "metadata": {},
   "outputs": [
    {
     "name": "stdout",
     "output_type": "stream",
     "text": [
      "Q6: The book with the maximum number of ratings is 'The Diary of a Young Girl'.\n"
     ]
    }
   ],
   "source": [
    "max_ratings_book_title = books_df.loc[books_df['work_ratings_count'].idxmax(), 'title']\n",
    "print(f\"Q6: The book with the maximum number of ratings is '{max_ratings_book_title}'.\")"
   ]
  },
  {
   "cell_type": "markdown",
   "id": "d976dfba",
   "metadata": {},
   "source": [
    "# Question 7: Bucket the average_rating of books into 11 buckets [0, 0.5, 1.0, 1.5, 2.0, 2.5, 3.0, 3.5, 4.0, 4.5, 5.0] with 0.5 decimal rounding (eg: average_rating 3.0 to 3.49 will fall in bucket 3.0). Plot bar graph to show total number of books in each rating bucket."
   ]
  },
  {
   "cell_type": "code",
   "execution_count": 12,
   "id": "805d56bd",
   "metadata": {},
   "outputs": [],
   "source": [
    "rating_buckets = np.arange(0, 5.5, 0.5)\n",
    "books_df['rating_bucket'] = pd.cut(books_df['average_rating'], bins=rating_buckets, include_lowest=True)\n",
    "bucket_counts = books_df['rating_bucket'].value_counts().sort_index()"
   ]
  },
  {
   "cell_type": "code",
   "execution_count": 14,
   "id": "54754e4e",
   "metadata": {
    "scrolled": true
   },
   "outputs": [
    {
     "data": {
      "image/png": "[encoded data removed]",
      "text/plain": [
       "<Figure size 2000x1200 with 1 Axes>"
      ]
     },
     "metadata": {},
     "output_type": "display_data"
    }
   ],
   "source": [
    "plt.figure(figsize=(20,12))\n",
    "plt.bar(bucket_counts.index.astype(str), bucket_counts.values, color='skyblue')\n",
    "plt.xlabel('Rating Bucket')\n",
    "plt.ylabel('Number of Books')\n",
    "plt.title('Number of Books in Each Rating Bucket')\n",
    "plt.show()"
   ]
  },
  {
   "cell_type": "markdown",
   "id": "3d673621",
   "metadata": {},
   "source": [
    "# Additional Analysis"
   ]
  },
  {
   "cell_type": "markdown",
   "id": "eb129e2b",
   "metadata": {},
   "source": [
    "## Count of books in each language_code."
   ]
  },
  {
   "cell_type": "code",
   "execution_count": 17,
   "id": "e9d3b356",
   "metadata": {},
   "outputs": [
    {
     "name": "stdout",
     "output_type": "stream",
     "text": [
      "1. Count of books in each language_code:\n",
      " eng      239\n",
      "en-US     99\n",
      "en-GB     11\n",
      "en-CA      5\n",
      "fre        1\n",
      "ger        1\n",
      "Name: language_code, dtype: int64\n"
     ]
    }
   ],
   "source": [
    "language_counts = books_df['language_code'].value_counts()\n",
    "print(\"1. Count of books in each language_code:\\n\", language_counts)"
   ]
  },
  {
   "cell_type": "markdown",
   "id": "10af080a",
   "metadata": {},
   "source": [
    "## Number of books with average rating above 4.0."
   ]
  },
  {
   "cell_type": "code",
   "execution_count": 19,
   "id": "dac6f8c4",
   "metadata": {},
   "outputs": [
    {
     "name": "stdout",
     "output_type": "stream",
     "text": [
      " Number of books with average rating above 4.0: 196\n"
     ]
    }
   ],
   "source": [
    "high_rated_books = books_df[books_df['average_rating'] > 4.0].shape[0]\n",
    "print(\" Number of books with average rating above 4.0:\", high_rated_books)"
   ]
  },
  {
   "cell_type": "markdown",
   "id": "ba8f61ca",
   "metadata": {},
   "source": [
    "## Books with the highest and lowest average ratings."
   ]
  },
  {
   "cell_type": "code",
   "execution_count": 22,
   "id": "f8951ece",
   "metadata": {},
   "outputs": [
    {
     "name": "stdout",
     "output_type": "stream",
     "text": [
      "Book with the highest average rating: Fearless: The Heroic Story of One Navy SEAL's Sacrifice in the Hunt for Osama Bin Laden and the Unwavering Devotion of the Woman Who Loved Him\n",
      "Book with the lowest average rating: Mein Kampf\n"
     ]
    }
   ],
   "source": [
    "highest_rated_book = books_df.loc[books_df['average_rating'].idxmax(), 'title']\n",
    "lowest_rated_book = books_df.loc[books_df['average_rating'].idxmin(), 'title']\n",
    "print(\"Book with the highest average rating:\", highest_rated_book)\n",
    "print(\"Book with the lowest average rating:\", lowest_rated_book)"
   ]
  },
  {
   "cell_type": "markdown",
   "id": "bb398f39",
   "metadata": {},
   "source": [
    "## Number of books for each author."
   ]
  },
  {
   "cell_type": "code",
   "execution_count": 23,
   "id": "330af620",
   "metadata": {
    "scrolled": true
   },
   "outputs": [
    {
     "name": "stdout",
     "output_type": "stream",
     "text": [
      "\n",
      "7. Number of books for each author:\n",
      " Augusten Burroughs                 5\n",
      "David Sedaris                      4\n",
      "James Herriot                      4\n",
      "Chelsea Handler                    4\n",
      "Maya Angelou                       3\n",
      "                                  ..\n",
      "Elizabeth  Smart, Chris Stewart    1\n",
      "Candice Millard                    1\n",
      "Chris Hadfield                     1\n",
      "Sarah Silverman                    1\n",
      "Maria Augusta von Trapp            1\n",
      "Name: authors, Length: 345, dtype: int64\n"
     ]
    }
   ],
   "source": [
    "author_counts = books_df['authors'].value_counts()\n",
    "print(\"\\n7. Number of books for each author:\\n\", author_counts)"
   ]
  },
  {
   "cell_type": "markdown",
   "id": "d7d2fc0f",
   "metadata": {},
   "source": [
    "## With the most and least ratings."
   ]
  },
  {
   "cell_type": "code",
   "execution_count": 25,
   "id": "a82d0584",
   "metadata": {},
   "outputs": [
    {
     "name": "stdout",
     "output_type": "stream",
     "text": [
      "   Book with the most ratings: The Diary of a Young Girl\n",
      "   Book with the least ratings: Hope: A Memoir of Survival in Cleveland\n"
     ]
    }
   ],
   "source": [
    "most_rated_book = books_df.loc[books_df['ratings_count'].idxmax(), 'title']\n",
    "least_rated_book = books_df.loc[books_df['ratings_count'].idxmin(), 'title']\n",
    "print(\"   Book with the most ratings:\", most_rated_book)\n",
    "print(\"   Book with the least ratings:\", least_rated_book)"
   ]
  },
  {
   "cell_type": "code",
   "execution_count": null,
   "id": "d88690bf",
   "metadata": {},
   "outputs": [],
   "source": [
    "plt.figure(figsize=(10, 6))\n",
    "plt.hist(books_df['average_rating'], bins=20, color='skyblue', edgecolor='black')\n",
    "plt.xlabel('Average Rating')\n",
    "plt.ylabel('Number of Books')\n",
    "plt.title('Distribution of Average Ratings')\n",
    "plt.show()"
   ]
  }
 ],
 "metadata": {
  "kernelspec": {
   "display_name": "Python 3 (ipykernel)",
   "language": "python",
   "name": "python3"
  },
  "language_info": {
   "codemirror_mode": {
    "name": "ipython",
    "version": 3
   },
   "file_extension": ".py",
   "mimetype": "text/x-python",
   "name": "python",
   "nbconvert_exporter": "python",
   "pygments_lexer": "ipython3",
   "version": "3.9.13"
  }
 },
 "nbformat": 4,
 "nbformat_minor": 5
}
